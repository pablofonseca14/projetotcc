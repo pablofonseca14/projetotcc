{
  "nbformat": 4,
  "nbformat_minor": 0,
  "metadata": {
    "colab": {
      "name": "3 TCC PAblo Slva Fonseca - Previsões.ipynb",
      "provenance": [],
      "toc_visible": true
    },
    "kernelspec": {
      "name": "python3",
      "display_name": "Python 3"
    },
    "language_info": {
      "name": "python"
    }
  },
  "cells": [
    {
      "cell_type": "code",
      "metadata": {
        "id": "K7Jh7zILUH-F"
      },
      "source": [
        "import pandas as pd\n",
        "import numpy as np\n",
        "from sklearn.linear_model import LogisticRegression\n",
        "from sklearn.ensemble import RandomForestClassifier"
      ],
      "execution_count": 54,
      "outputs": []
    },
    {
      "cell_type": "code",
      "metadata": {
        "colab": {
          "base_uri": "https://localhost:8080/",
          "height": 293
        },
        "id": "3Nu9CqrdVaT3",
        "outputId": "0c827766-74f6-4db3-da58-1f6df563e14a"
      },
      "source": [
        "df = pd.read_csv('https://raw.githubusercontent.com/pablofonseca14/projetotcc/main/dataset/dataset_jogos.csv')\n",
        "df.head()"
      ],
      "execution_count": 55,
      "outputs": [
        {
          "output_type": "execute_result",
          "data": {
            "text/html": [
              "<div>\n",
              "<style scoped>\n",
              "    .dataframe tbody tr th:only-of-type {\n",
              "        vertical-align: middle;\n",
              "    }\n",
              "\n",
              "    .dataframe tbody tr th {\n",
              "        vertical-align: top;\n",
              "    }\n",
              "\n",
              "    .dataframe thead th {\n",
              "        text-align: right;\n",
              "    }\n",
              "</style>\n",
              "<table border=\"1\" class=\"dataframe\">\n",
              "  <thead>\n",
              "    <tr style=\"text-align: right;\">\n",
              "      <th></th>\n",
              "      <th>Div</th>\n",
              "      <th>Data</th>\n",
              "      <th>Casa</th>\n",
              "      <th>Visitante</th>\n",
              "      <th>Placar Casa</th>\n",
              "      <th>Placar Visitante</th>\n",
              "      <th>Resultado</th>\n",
              "      <th>Pontos Casa</th>\n",
              "      <th>Pontos Visitante</th>\n",
              "      <th>Soma Pontos Casa</th>\n",
              "      <th>Soma Pontos Visitante</th>\n",
              "      <th>Gols Casa</th>\n",
              "      <th>Gols Visitantes</th>\n",
              "      <th>Gols Conc. Casa</th>\n",
              "      <th>Gols Conc. Visitante</th>\n",
              "      <th>GMC</th>\n",
              "      <th>GMV</th>\n",
              "      <th>GCC</th>\n",
              "      <th>GCV</th>\n",
              "      <th>Total P. Casa</th>\n",
              "      <th>Total P. Visit.</th>\n",
              "      <th>Rodada</th>\n",
              "      <th>C1</th>\n",
              "      <th>V1</th>\n",
              "      <th>C2</th>\n",
              "      <th>V2</th>\n",
              "      <th>C3</th>\n",
              "      <th>V3</th>\n",
              "      <th>Casa Sequencia</th>\n",
              "      <th>Visitante Sequencia</th>\n",
              "      <th>Casa_AA</th>\n",
              "      <th>Visitante_AA</th>\n",
              "      <th>Dif Gols Casa</th>\n",
              "      <th>Dif Gols Visit</th>\n",
              "      <th>Dif Gols Time Casas</th>\n",
              "      <th>Dif Gols Time Visitante</th>\n",
              "      <th>Dif Pontos</th>\n",
              "      <th>Dif Posição</th>\n",
              "    </tr>\n",
              "  </thead>\n",
              "  <tbody>\n",
              "    <tr>\n",
              "      <th>0</th>\n",
              "      <td>E0</td>\n",
              "      <td>10/08/2018</td>\n",
              "      <td>Man United</td>\n",
              "      <td>Leicester</td>\n",
              "      <td>2.0</td>\n",
              "      <td>1.0</td>\n",
              "      <td>C</td>\n",
              "      <td>3</td>\n",
              "      <td>0</td>\n",
              "      <td>0</td>\n",
              "      <td>0</td>\n",
              "      <td>0.0</td>\n",
              "      <td>0.0</td>\n",
              "      <td>0.0</td>\n",
              "      <td>0.0</td>\n",
              "      <td>0.0</td>\n",
              "      <td>0.0</td>\n",
              "      <td>0.0</td>\n",
              "      <td>0.0</td>\n",
              "      <td>0</td>\n",
              "      <td>0</td>\n",
              "      <td>1</td>\n",
              "      <td>-</td>\n",
              "      <td>-</td>\n",
              "      <td>-</td>\n",
              "      <td>-</td>\n",
              "      <td>-</td>\n",
              "      <td>-</td>\n",
              "      <td>---</td>\n",
              "      <td>---</td>\n",
              "      <td>2.0</td>\n",
              "      <td>9.0</td>\n",
              "      <td>0.0</td>\n",
              "      <td>0.0</td>\n",
              "      <td>0.0</td>\n",
              "      <td>0.0</td>\n",
              "      <td>0</td>\n",
              "      <td>-7.0</td>\n",
              "    </tr>\n",
              "    <tr>\n",
              "      <th>1</th>\n",
              "      <td>E0</td>\n",
              "      <td>11/08/2018</td>\n",
              "      <td>Bournemouth</td>\n",
              "      <td>Cardiff</td>\n",
              "      <td>2.0</td>\n",
              "      <td>0.0</td>\n",
              "      <td>C</td>\n",
              "      <td>3</td>\n",
              "      <td>0</td>\n",
              "      <td>0</td>\n",
              "      <td>0</td>\n",
              "      <td>0.0</td>\n",
              "      <td>0.0</td>\n",
              "      <td>0.0</td>\n",
              "      <td>0.0</td>\n",
              "      <td>0.0</td>\n",
              "      <td>0.0</td>\n",
              "      <td>0.0</td>\n",
              "      <td>0.0</td>\n",
              "      <td>0</td>\n",
              "      <td>0</td>\n",
              "      <td>1</td>\n",
              "      <td>-</td>\n",
              "      <td>-</td>\n",
              "      <td>-</td>\n",
              "      <td>-</td>\n",
              "      <td>-</td>\n",
              "      <td>-</td>\n",
              "      <td>---</td>\n",
              "      <td>---</td>\n",
              "      <td>12.0</td>\n",
              "      <td>17.0</td>\n",
              "      <td>0.0</td>\n",
              "      <td>0.0</td>\n",
              "      <td>0.0</td>\n",
              "      <td>0.0</td>\n",
              "      <td>0</td>\n",
              "      <td>-5.0</td>\n",
              "    </tr>\n",
              "    <tr>\n",
              "      <th>2</th>\n",
              "      <td>E0</td>\n",
              "      <td>11/08/2018</td>\n",
              "      <td>Fulham</td>\n",
              "      <td>Crystal Palace</td>\n",
              "      <td>0.0</td>\n",
              "      <td>2.0</td>\n",
              "      <td>V</td>\n",
              "      <td>0</td>\n",
              "      <td>3</td>\n",
              "      <td>0</td>\n",
              "      <td>0</td>\n",
              "      <td>0.0</td>\n",
              "      <td>0.0</td>\n",
              "      <td>0.0</td>\n",
              "      <td>0.0</td>\n",
              "      <td>0.0</td>\n",
              "      <td>0.0</td>\n",
              "      <td>0.0</td>\n",
              "      <td>0.0</td>\n",
              "      <td>0</td>\n",
              "      <td>0</td>\n",
              "      <td>1</td>\n",
              "      <td>-</td>\n",
              "      <td>-</td>\n",
              "      <td>-</td>\n",
              "      <td>-</td>\n",
              "      <td>-</td>\n",
              "      <td>-</td>\n",
              "      <td>---</td>\n",
              "      <td>---</td>\n",
              "      <td>17.0</td>\n",
              "      <td>11.0</td>\n",
              "      <td>0.0</td>\n",
              "      <td>0.0</td>\n",
              "      <td>0.0</td>\n",
              "      <td>0.0</td>\n",
              "      <td>0</td>\n",
              "      <td>6.0</td>\n",
              "    </tr>\n",
              "    <tr>\n",
              "      <th>3</th>\n",
              "      <td>E0</td>\n",
              "      <td>11/08/2018</td>\n",
              "      <td>Huddersfield</td>\n",
              "      <td>Chelsea</td>\n",
              "      <td>0.0</td>\n",
              "      <td>3.0</td>\n",
              "      <td>V</td>\n",
              "      <td>0</td>\n",
              "      <td>3</td>\n",
              "      <td>0</td>\n",
              "      <td>0</td>\n",
              "      <td>0.0</td>\n",
              "      <td>0.0</td>\n",
              "      <td>0.0</td>\n",
              "      <td>0.0</td>\n",
              "      <td>0.0</td>\n",
              "      <td>0.0</td>\n",
              "      <td>0.0</td>\n",
              "      <td>0.0</td>\n",
              "      <td>0</td>\n",
              "      <td>0</td>\n",
              "      <td>1</td>\n",
              "      <td>-</td>\n",
              "      <td>-</td>\n",
              "      <td>-</td>\n",
              "      <td>-</td>\n",
              "      <td>-</td>\n",
              "      <td>-</td>\n",
              "      <td>---</td>\n",
              "      <td>---</td>\n",
              "      <td>16.0</td>\n",
              "      <td>5.0</td>\n",
              "      <td>0.0</td>\n",
              "      <td>0.0</td>\n",
              "      <td>0.0</td>\n",
              "      <td>0.0</td>\n",
              "      <td>0</td>\n",
              "      <td>11.0</td>\n",
              "    </tr>\n",
              "    <tr>\n",
              "      <th>4</th>\n",
              "      <td>E0</td>\n",
              "      <td>11/08/2018</td>\n",
              "      <td>Newcastle</td>\n",
              "      <td>Tottenham</td>\n",
              "      <td>1.0</td>\n",
              "      <td>2.0</td>\n",
              "      <td>V</td>\n",
              "      <td>0</td>\n",
              "      <td>3</td>\n",
              "      <td>0</td>\n",
              "      <td>0</td>\n",
              "      <td>0.0</td>\n",
              "      <td>0.0</td>\n",
              "      <td>0.0</td>\n",
              "      <td>0.0</td>\n",
              "      <td>0.0</td>\n",
              "      <td>0.0</td>\n",
              "      <td>0.0</td>\n",
              "      <td>0.0</td>\n",
              "      <td>0</td>\n",
              "      <td>0</td>\n",
              "      <td>1</td>\n",
              "      <td>-</td>\n",
              "      <td>-</td>\n",
              "      <td>-</td>\n",
              "      <td>-</td>\n",
              "      <td>-</td>\n",
              "      <td>-</td>\n",
              "      <td>---</td>\n",
              "      <td>---</td>\n",
              "      <td>10.0</td>\n",
              "      <td>3.0</td>\n",
              "      <td>0.0</td>\n",
              "      <td>0.0</td>\n",
              "      <td>0.0</td>\n",
              "      <td>0.0</td>\n",
              "      <td>0</td>\n",
              "      <td>7.0</td>\n",
              "    </tr>\n",
              "  </tbody>\n",
              "</table>\n",
              "</div>"
            ],
            "text/plain": [
              "  Div        Data  ... Dif Pontos Dif Posição\n",
              "0  E0  10/08/2018  ...          0        -7.0\n",
              "1  E0  11/08/2018  ...          0        -5.0\n",
              "2  E0  11/08/2018  ...          0         6.0\n",
              "3  E0  11/08/2018  ...          0        11.0\n",
              "4  E0  11/08/2018  ...          0         7.0\n",
              "\n",
              "[5 rows x 38 columns]"
            ]
          },
          "metadata": {
            "tags": []
          },
          "execution_count": 55
        }
      ]
    },
    {
      "cell_type": "code",
      "metadata": {
        "colab": {
          "base_uri": "https://localhost:8080/"
        },
        "id": "xkvIce9XVfYG",
        "outputId": "5516ec40-82a8-4597-926d-165639a0642b"
      },
      "source": [
        "df = df.loc[df['Rodada'] > 3]\n",
        "df.shape"
      ],
      "execution_count": 56,
      "outputs": [
        {
          "output_type": "execute_result",
          "data": {
            "text/plain": [
              "(9800, 38)"
            ]
          },
          "metadata": {
            "tags": []
          },
          "execution_count": 56
        }
      ]
    },
    {
      "cell_type": "code",
      "metadata": {
        "id": "77NOpIokWEBk"
      },
      "source": [
        "df.drop(['Div', 'Data', 'Casa', 'Visitante', 'Placar Casa', 'Placar Visitante', 'Pontos Casa', 'Pontos Visitante'], axis= 1, inplace=True)"
      ],
      "execution_count": 57,
      "outputs": []
    },
    {
      "cell_type": "code",
      "metadata": {
        "colab": {
          "base_uri": "https://localhost:8080/"
        },
        "id": "nNcDeIflZcAM",
        "outputId": "43755f13-009d-44f0-b6ae-926d88092f6b"
      },
      "source": [
        "df['Resultado'].describe()"
      ],
      "execution_count": 58,
      "outputs": [
        {
          "output_type": "execute_result",
          "data": {
            "text/plain": [
              "count     9800\n",
              "unique       3\n",
              "top          C\n",
              "freq      4557\n",
              "Name: Resultado, dtype: object"
            ]
          },
          "metadata": {
            "tags": []
          },
          "execution_count": 58
        }
      ]
    },
    {
      "cell_type": "code",
      "metadata": {
        "id": "DY3iHB0NWH-S"
      },
      "source": [
        "escala = ['Soma Pontos Casa', 'Soma Pontos Visitante', 'Gols Casa', 'Gols Visitantes', 'Gols Conc. Casa', 'Gols Conc. Visitante', 'GMC', 'GMV', 'GCC', 'GCV', 'Total P. Casa', 'Total P. Visit.', 'Dif Gols Casa', 'Dif Gols Visit', 'Dif Pontos', 'Dif Posição', 'Dif Gols Time Casas', 'Dif Gols Time Visitante']\n",
        "df['Rodada'] = df['Rodada'].astype(float)\n",
        "\n",
        "for colunas in escala:\n",
        "    df[colunas] = df[colunas] / df['Rodada']"
      ],
      "execution_count": 59,
      "outputs": []
    },
    {
      "cell_type": "code",
      "metadata": {
        "id": "de6WbvjAXAGK"
      },
      "source": [
        "def only_hw(string):\n",
        "    if string == 'C':\n",
        "        return 1\n",
        "    else:\n",
        "        return 0\n",
        "    \n",
        "df['Resultado'] = df.Resultado.apply(only_hw)"
      ],
      "execution_count": 60,
      "outputs": []
    },
    {
      "cell_type": "code",
      "metadata": {
        "id": "wXfAFDqaXk_U"
      },
      "source": [
        "x = df.drop(['Resultado', 'Rodada'],1)\n",
        "y = df['Resultado']"
      ],
      "execution_count": 61,
      "outputs": []
    },
    {
      "cell_type": "code",
      "metadata": {
        "id": "5ukujMnReJaq"
      },
      "source": [
        "from sklearn.preprocessing import scale\n",
        "\n",
        "for col in escala:\n",
        "    x[col] = scale(x[col])"
      ],
      "execution_count": 62,
      "outputs": []
    },
    {
      "cell_type": "code",
      "metadata": {
        "colab": {
          "base_uri": "https://localhost:8080/",
          "height": 258
        },
        "id": "irthXDzEX-cK",
        "outputId": "c6dd4dc3-20f4-4cd6-83ed-141c3cc63100"
      },
      "source": [
        "x.head()"
      ],
      "execution_count": 63,
      "outputs": [
        {
          "output_type": "execute_result",
          "data": {
            "text/html": [
              "<div>\n",
              "<style scoped>\n",
              "    .dataframe tbody tr th:only-of-type {\n",
              "        vertical-align: middle;\n",
              "    }\n",
              "\n",
              "    .dataframe tbody tr th {\n",
              "        vertical-align: top;\n",
              "    }\n",
              "\n",
              "    .dataframe thead th {\n",
              "        text-align: right;\n",
              "    }\n",
              "</style>\n",
              "<table border=\"1\" class=\"dataframe\">\n",
              "  <thead>\n",
              "    <tr style=\"text-align: right;\">\n",
              "      <th></th>\n",
              "      <th>Soma Pontos Casa</th>\n",
              "      <th>Soma Pontos Visitante</th>\n",
              "      <th>Gols Casa</th>\n",
              "      <th>Gols Visitantes</th>\n",
              "      <th>Gols Conc. Casa</th>\n",
              "      <th>Gols Conc. Visitante</th>\n",
              "      <th>GMC</th>\n",
              "      <th>GMV</th>\n",
              "      <th>GCC</th>\n",
              "      <th>GCV</th>\n",
              "      <th>Total P. Casa</th>\n",
              "      <th>Total P. Visit.</th>\n",
              "      <th>C1</th>\n",
              "      <th>V1</th>\n",
              "      <th>C2</th>\n",
              "      <th>V2</th>\n",
              "      <th>C3</th>\n",
              "      <th>V3</th>\n",
              "      <th>Casa Sequencia</th>\n",
              "      <th>Visitante Sequencia</th>\n",
              "      <th>Casa_AA</th>\n",
              "      <th>Visitante_AA</th>\n",
              "      <th>Dif Gols Casa</th>\n",
              "      <th>Dif Gols Visit</th>\n",
              "      <th>Dif Gols Time Casas</th>\n",
              "      <th>Dif Gols Time Visitante</th>\n",
              "      <th>Dif Pontos</th>\n",
              "      <th>Dif Posição</th>\n",
              "    </tr>\n",
              "  </thead>\n",
              "  <tbody>\n",
              "    <tr>\n",
              "      <th>30</th>\n",
              "      <td>0.06005</td>\n",
              "      <td>-1.782482</td>\n",
              "      <td>0.281665</td>\n",
              "      <td>-1.067492</td>\n",
              "      <td>-0.036291</td>\n",
              "      <td>0.311637</td>\n",
              "      <td>-1.045755</td>\n",
              "      <td>0.046307</td>\n",
              "      <td>0.058424</td>\n",
              "      <td>1.404920</td>\n",
              "      <td>-1.055723</td>\n",
              "      <td>-1.092067</td>\n",
              "      <td>D</td>\n",
              "      <td>S</td>\n",
              "      <td>S</td>\n",
              "      <td>D</td>\n",
              "      <td>D</td>\n",
              "      <td>D</td>\n",
              "      <td>DSD</td>\n",
              "      <td>SDD</td>\n",
              "      <td>15.0</td>\n",
              "      <td>17.0</td>\n",
              "      <td>0.224648</td>\n",
              "      <td>-0.881106</td>\n",
              "      <td>-0.708400</td>\n",
              "      <td>-0.739351</td>\n",
              "      <td>1.296740</td>\n",
              "      <td>-0.756085</td>\n",
              "    </tr>\n",
              "    <tr>\n",
              "      <th>31</th>\n",
              "      <td>0.06005</td>\n",
              "      <td>0.906155</td>\n",
              "      <td>0.281665</td>\n",
              "      <td>-0.033816</td>\n",
              "      <td>-0.036291</td>\n",
              "      <td>-1.621199</td>\n",
              "      <td>1.738215</td>\n",
              "      <td>0.601567</td>\n",
              "      <td>-1.252276</td>\n",
              "      <td>-1.231474</td>\n",
              "      <td>1.984276</td>\n",
              "      <td>0.947629</td>\n",
              "      <td>S</td>\n",
              "      <td>E</td>\n",
              "      <td>S</td>\n",
              "      <td>S</td>\n",
              "      <td>S</td>\n",
              "      <td>S</td>\n",
              "      <td>SSS</td>\n",
              "      <td>ESS</td>\n",
              "      <td>5.0</td>\n",
              "      <td>12.0</td>\n",
              "      <td>0.224648</td>\n",
              "      <td>1.069423</td>\n",
              "      <td>1.812185</td>\n",
              "      <td>1.065546</td>\n",
              "      <td>-0.591401</td>\n",
              "      <td>-2.642962</td>\n",
              "    </tr>\n",
              "    <tr>\n",
              "      <th>32</th>\n",
              "      <td>-2.46170</td>\n",
              "      <td>-1.782482</td>\n",
              "      <td>-2.364360</td>\n",
              "      <td>-1.067492</td>\n",
              "      <td>-0.036291</td>\n",
              "      <td>-0.654781</td>\n",
              "      <td>-1.045755</td>\n",
              "      <td>-1.619473</td>\n",
              "      <td>-0.596926</td>\n",
              "      <td>-0.572376</td>\n",
              "      <td>-1.055723</td>\n",
              "      <td>-2.111915</td>\n",
              "      <td>D</td>\n",
              "      <td>D</td>\n",
              "      <td>D</td>\n",
              "      <td>D</td>\n",
              "      <td>S</td>\n",
              "      <td>E</td>\n",
              "      <td>DDS</td>\n",
              "      <td>DDE</td>\n",
              "      <td>11.0</td>\n",
              "      <td>17.0</td>\n",
              "      <td>-1.691583</td>\n",
              "      <td>-0.230930</td>\n",
              "      <td>-0.348316</td>\n",
              "      <td>-0.739351</td>\n",
              "      <td>-0.591401</td>\n",
              "      <td>-2.265587</td>\n",
              "    </tr>\n",
              "    <tr>\n",
              "      <th>33</th>\n",
              "      <td>0.06005</td>\n",
              "      <td>-1.782482</td>\n",
              "      <td>-0.600343</td>\n",
              "      <td>-1.067492</td>\n",
              "      <td>-1.157842</td>\n",
              "      <td>3.210891</td>\n",
              "      <td>0.624627</td>\n",
              "      <td>-2.174734</td>\n",
              "      <td>0.058424</td>\n",
              "      <td>2.723117</td>\n",
              "      <td>-0.042390</td>\n",
              "      <td>-2.111915</td>\n",
              "      <td>E</td>\n",
              "      <td>E</td>\n",
              "      <td>S</td>\n",
              "      <td>D</td>\n",
              "      <td>E</td>\n",
              "      <td>D</td>\n",
              "      <td>ESE</td>\n",
              "      <td>EDD</td>\n",
              "      <td>8.0</td>\n",
              "      <td>16.0</td>\n",
              "      <td>0.224648</td>\n",
              "      <td>-2.831634</td>\n",
              "      <td>0.371851</td>\n",
              "      <td>-2.905229</td>\n",
              "      <td>1.296740</td>\n",
              "      <td>-3.020337</td>\n",
              "    </tr>\n",
              "    <tr>\n",
              "      <th>34</th>\n",
              "      <td>0.06005</td>\n",
              "      <td>0.906155</td>\n",
              "      <td>-0.600343</td>\n",
              "      <td>-0.033816</td>\n",
              "      <td>-2.279394</td>\n",
              "      <td>-2.587616</td>\n",
              "      <td>0.067833</td>\n",
              "      <td>1.156827</td>\n",
              "      <td>-1.252276</td>\n",
              "      <td>-3.208770</td>\n",
              "      <td>0.464276</td>\n",
              "      <td>1.967477</td>\n",
              "      <td>S</td>\n",
              "      <td>S</td>\n",
              "      <td>S</td>\n",
              "      <td>S</td>\n",
              "      <td>D</td>\n",
              "      <td>S</td>\n",
              "      <td>SSD</td>\n",
              "      <td>SSS</td>\n",
              "      <td>9.0</td>\n",
              "      <td>4.0</td>\n",
              "      <td>0.863392</td>\n",
              "      <td>1.719599</td>\n",
              "      <td>0.731935</td>\n",
              "      <td>2.509464</td>\n",
              "      <td>-0.591401</td>\n",
              "      <td>1.885542</td>\n",
              "    </tr>\n",
              "  </tbody>\n",
              "</table>\n",
              "</div>"
            ],
            "text/plain": [
              "    Soma Pontos Casa  Soma Pontos Visitante  ...  Dif Pontos  Dif Posição\n",
              "30           0.06005              -1.782482  ...    1.296740    -0.756085\n",
              "31           0.06005               0.906155  ...   -0.591401    -2.642962\n",
              "32          -2.46170              -1.782482  ...   -0.591401    -2.265587\n",
              "33           0.06005              -1.782482  ...    1.296740    -3.020337\n",
              "34           0.06005               0.906155  ...   -0.591401     1.885542\n",
              "\n",
              "[5 rows x 28 columns]"
            ]
          },
          "metadata": {
            "tags": []
          },
          "execution_count": 63
        }
      ]
    },
    {
      "cell_type": "code",
      "metadata": {
        "colab": {
          "base_uri": "https://localhost:8080/"
        },
        "id": "lRu6PgFL1GZ8",
        "outputId": "041b412a-9f5c-4ab3-8048-06a7fa73cea3"
      },
      "source": [
        "x.shape"
      ],
      "execution_count": 64,
      "outputs": [
        {
          "output_type": "execute_result",
          "data": {
            "text/plain": [
              "(9800, 28)"
            ]
          },
          "metadata": {
            "tags": []
          },
          "execution_count": 64
        }
      ]
    },
    {
      "cell_type": "code",
      "metadata": {
        "id": "EVPYmqxQl1qP"
      },
      "source": [
        "x = pd.get_dummies(x, columns=['C1', 'C2', 'C3', 'V1', 'V2', 'V3', 'Casa Sequencia', 'Visitante Sequencia'], prefix= ['C1', 'C2', 'C3', 'V1', 'V2', 'V3', 'Casa Sequencia', 'Visitante Sequencia'])"
      ],
      "execution_count": 65,
      "outputs": []
    },
    {
      "cell_type": "code",
      "metadata": {
        "colab": {
          "base_uri": "https://localhost:8080/",
          "height": 287
        },
        "id": "8imYjpap5TXI",
        "outputId": "72f77dbf-da83-4a60-81fb-5e60976cd995"
      },
      "source": [
        "x.head()"
      ],
      "execution_count": 69,
      "outputs": [
        {
          "output_type": "execute_result",
          "data": {
            "text/html": [
              "<div>\n",
              "<style scoped>\n",
              "    .dataframe tbody tr th:only-of-type {\n",
              "        vertical-align: middle;\n",
              "    }\n",
              "\n",
              "    .dataframe tbody tr th {\n",
              "        vertical-align: top;\n",
              "    }\n",
              "\n",
              "    .dataframe thead th {\n",
              "        text-align: right;\n",
              "    }\n",
              "</style>\n",
              "<table border=\"1\" class=\"dataframe\">\n",
              "  <thead>\n",
              "    <tr style=\"text-align: right;\">\n",
              "      <th></th>\n",
              "      <th>Soma Pontos Casa</th>\n",
              "      <th>Soma Pontos Visitante</th>\n",
              "      <th>Gols Casa</th>\n",
              "      <th>Gols Visitantes</th>\n",
              "      <th>Gols Conc. Casa</th>\n",
              "      <th>Gols Conc. Visitante</th>\n",
              "      <th>GMC</th>\n",
              "      <th>GMV</th>\n",
              "      <th>GCC</th>\n",
              "      <th>GCV</th>\n",
              "      <th>Total P. Casa</th>\n",
              "      <th>Total P. Visit.</th>\n",
              "      <th>Casa_AA</th>\n",
              "      <th>Visitante_AA</th>\n",
              "      <th>Dif Gols Casa</th>\n",
              "      <th>Dif Gols Visit</th>\n",
              "      <th>Dif Gols Time Casas</th>\n",
              "      <th>Dif Gols Time Visitante</th>\n",
              "      <th>Dif Pontos</th>\n",
              "      <th>Dif Posição</th>\n",
              "      <th>C1_D</th>\n",
              "      <th>C1_E</th>\n",
              "      <th>C1_S</th>\n",
              "      <th>C2_D</th>\n",
              "      <th>C2_E</th>\n",
              "      <th>C2_S</th>\n",
              "      <th>C3_D</th>\n",
              "      <th>C3_E</th>\n",
              "      <th>C3_S</th>\n",
              "      <th>V1_D</th>\n",
              "      <th>V1_E</th>\n",
              "      <th>V1_S</th>\n",
              "      <th>V2_D</th>\n",
              "      <th>V2_E</th>\n",
              "      <th>V2_S</th>\n",
              "      <th>V3_D</th>\n",
              "      <th>V3_E</th>\n",
              "      <th>V3_S</th>\n",
              "      <th>Casa Sequencia_DDD</th>\n",
              "      <th>Casa Sequencia_DDE</th>\n",
              "      <th>...</th>\n",
              "      <th>Casa Sequencia_EES</th>\n",
              "      <th>Casa Sequencia_ESD</th>\n",
              "      <th>Casa Sequencia_ESE</th>\n",
              "      <th>Casa Sequencia_ESS</th>\n",
              "      <th>Casa Sequencia_SDD</th>\n",
              "      <th>Casa Sequencia_SDE</th>\n",
              "      <th>Casa Sequencia_SDS</th>\n",
              "      <th>Casa Sequencia_SED</th>\n",
              "      <th>Casa Sequencia_SEE</th>\n",
              "      <th>Casa Sequencia_SES</th>\n",
              "      <th>Casa Sequencia_SSD</th>\n",
              "      <th>Casa Sequencia_SSE</th>\n",
              "      <th>Casa Sequencia_SSS</th>\n",
              "      <th>Visitante Sequencia_DDD</th>\n",
              "      <th>Visitante Sequencia_DDE</th>\n",
              "      <th>Visitante Sequencia_DDS</th>\n",
              "      <th>Visitante Sequencia_DED</th>\n",
              "      <th>Visitante Sequencia_DEE</th>\n",
              "      <th>Visitante Sequencia_DES</th>\n",
              "      <th>Visitante Sequencia_DSD</th>\n",
              "      <th>Visitante Sequencia_DSE</th>\n",
              "      <th>Visitante Sequencia_DSS</th>\n",
              "      <th>Visitante Sequencia_EDD</th>\n",
              "      <th>Visitante Sequencia_EDE</th>\n",
              "      <th>Visitante Sequencia_EDS</th>\n",
              "      <th>Visitante Sequencia_EED</th>\n",
              "      <th>Visitante Sequencia_EEE</th>\n",
              "      <th>Visitante Sequencia_EES</th>\n",
              "      <th>Visitante Sequencia_ESD</th>\n",
              "      <th>Visitante Sequencia_ESE</th>\n",
              "      <th>Visitante Sequencia_ESS</th>\n",
              "      <th>Visitante Sequencia_SDD</th>\n",
              "      <th>Visitante Sequencia_SDE</th>\n",
              "      <th>Visitante Sequencia_SDS</th>\n",
              "      <th>Visitante Sequencia_SED</th>\n",
              "      <th>Visitante Sequencia_SEE</th>\n",
              "      <th>Visitante Sequencia_SES</th>\n",
              "      <th>Visitante Sequencia_SSD</th>\n",
              "      <th>Visitante Sequencia_SSE</th>\n",
              "      <th>Visitante Sequencia_SSS</th>\n",
              "    </tr>\n",
              "  </thead>\n",
              "  <tbody>\n",
              "    <tr>\n",
              "      <th>30</th>\n",
              "      <td>0.06005</td>\n",
              "      <td>-1.782482</td>\n",
              "      <td>0.281665</td>\n",
              "      <td>-1.067492</td>\n",
              "      <td>-0.036291</td>\n",
              "      <td>0.311637</td>\n",
              "      <td>-1.045755</td>\n",
              "      <td>0.046307</td>\n",
              "      <td>0.058424</td>\n",
              "      <td>1.404920</td>\n",
              "      <td>-1.055723</td>\n",
              "      <td>-1.092067</td>\n",
              "      <td>15.0</td>\n",
              "      <td>17.0</td>\n",
              "      <td>0.224648</td>\n",
              "      <td>-0.881106</td>\n",
              "      <td>-0.708400</td>\n",
              "      <td>-0.739351</td>\n",
              "      <td>1.296740</td>\n",
              "      <td>-0.756085</td>\n",
              "      <td>1</td>\n",
              "      <td>0</td>\n",
              "      <td>0</td>\n",
              "      <td>0</td>\n",
              "      <td>0</td>\n",
              "      <td>1</td>\n",
              "      <td>1</td>\n",
              "      <td>0</td>\n",
              "      <td>0</td>\n",
              "      <td>0</td>\n",
              "      <td>0</td>\n",
              "      <td>1</td>\n",
              "      <td>1</td>\n",
              "      <td>0</td>\n",
              "      <td>0</td>\n",
              "      <td>1</td>\n",
              "      <td>0</td>\n",
              "      <td>0</td>\n",
              "      <td>0</td>\n",
              "      <td>0</td>\n",
              "      <td>...</td>\n",
              "      <td>0</td>\n",
              "      <td>0</td>\n",
              "      <td>0</td>\n",
              "      <td>0</td>\n",
              "      <td>0</td>\n",
              "      <td>0</td>\n",
              "      <td>0</td>\n",
              "      <td>0</td>\n",
              "      <td>0</td>\n",
              "      <td>0</td>\n",
              "      <td>0</td>\n",
              "      <td>0</td>\n",
              "      <td>0</td>\n",
              "      <td>0</td>\n",
              "      <td>0</td>\n",
              "      <td>0</td>\n",
              "      <td>0</td>\n",
              "      <td>0</td>\n",
              "      <td>0</td>\n",
              "      <td>0</td>\n",
              "      <td>0</td>\n",
              "      <td>0</td>\n",
              "      <td>0</td>\n",
              "      <td>0</td>\n",
              "      <td>0</td>\n",
              "      <td>0</td>\n",
              "      <td>0</td>\n",
              "      <td>0</td>\n",
              "      <td>0</td>\n",
              "      <td>0</td>\n",
              "      <td>0</td>\n",
              "      <td>1</td>\n",
              "      <td>0</td>\n",
              "      <td>0</td>\n",
              "      <td>0</td>\n",
              "      <td>0</td>\n",
              "      <td>0</td>\n",
              "      <td>0</td>\n",
              "      <td>0</td>\n",
              "      <td>0</td>\n",
              "    </tr>\n",
              "    <tr>\n",
              "      <th>31</th>\n",
              "      <td>0.06005</td>\n",
              "      <td>0.906155</td>\n",
              "      <td>0.281665</td>\n",
              "      <td>-0.033816</td>\n",
              "      <td>-0.036291</td>\n",
              "      <td>-1.621199</td>\n",
              "      <td>1.738215</td>\n",
              "      <td>0.601567</td>\n",
              "      <td>-1.252276</td>\n",
              "      <td>-1.231474</td>\n",
              "      <td>1.984276</td>\n",
              "      <td>0.947629</td>\n",
              "      <td>5.0</td>\n",
              "      <td>12.0</td>\n",
              "      <td>0.224648</td>\n",
              "      <td>1.069423</td>\n",
              "      <td>1.812185</td>\n",
              "      <td>1.065546</td>\n",
              "      <td>-0.591401</td>\n",
              "      <td>-2.642962</td>\n",
              "      <td>0</td>\n",
              "      <td>0</td>\n",
              "      <td>1</td>\n",
              "      <td>0</td>\n",
              "      <td>0</td>\n",
              "      <td>1</td>\n",
              "      <td>0</td>\n",
              "      <td>0</td>\n",
              "      <td>1</td>\n",
              "      <td>0</td>\n",
              "      <td>1</td>\n",
              "      <td>0</td>\n",
              "      <td>0</td>\n",
              "      <td>0</td>\n",
              "      <td>1</td>\n",
              "      <td>0</td>\n",
              "      <td>0</td>\n",
              "      <td>1</td>\n",
              "      <td>0</td>\n",
              "      <td>0</td>\n",
              "      <td>...</td>\n",
              "      <td>0</td>\n",
              "      <td>0</td>\n",
              "      <td>0</td>\n",
              "      <td>0</td>\n",
              "      <td>0</td>\n",
              "      <td>0</td>\n",
              "      <td>0</td>\n",
              "      <td>0</td>\n",
              "      <td>0</td>\n",
              "      <td>0</td>\n",
              "      <td>0</td>\n",
              "      <td>0</td>\n",
              "      <td>1</td>\n",
              "      <td>0</td>\n",
              "      <td>0</td>\n",
              "      <td>0</td>\n",
              "      <td>0</td>\n",
              "      <td>0</td>\n",
              "      <td>0</td>\n",
              "      <td>0</td>\n",
              "      <td>0</td>\n",
              "      <td>0</td>\n",
              "      <td>0</td>\n",
              "      <td>0</td>\n",
              "      <td>0</td>\n",
              "      <td>0</td>\n",
              "      <td>0</td>\n",
              "      <td>0</td>\n",
              "      <td>0</td>\n",
              "      <td>0</td>\n",
              "      <td>1</td>\n",
              "      <td>0</td>\n",
              "      <td>0</td>\n",
              "      <td>0</td>\n",
              "      <td>0</td>\n",
              "      <td>0</td>\n",
              "      <td>0</td>\n",
              "      <td>0</td>\n",
              "      <td>0</td>\n",
              "      <td>0</td>\n",
              "    </tr>\n",
              "    <tr>\n",
              "      <th>32</th>\n",
              "      <td>-2.46170</td>\n",
              "      <td>-1.782482</td>\n",
              "      <td>-2.364360</td>\n",
              "      <td>-1.067492</td>\n",
              "      <td>-0.036291</td>\n",
              "      <td>-0.654781</td>\n",
              "      <td>-1.045755</td>\n",
              "      <td>-1.619473</td>\n",
              "      <td>-0.596926</td>\n",
              "      <td>-0.572376</td>\n",
              "      <td>-1.055723</td>\n",
              "      <td>-2.111915</td>\n",
              "      <td>11.0</td>\n",
              "      <td>17.0</td>\n",
              "      <td>-1.691583</td>\n",
              "      <td>-0.230930</td>\n",
              "      <td>-0.348316</td>\n",
              "      <td>-0.739351</td>\n",
              "      <td>-0.591401</td>\n",
              "      <td>-2.265587</td>\n",
              "      <td>1</td>\n",
              "      <td>0</td>\n",
              "      <td>0</td>\n",
              "      <td>1</td>\n",
              "      <td>0</td>\n",
              "      <td>0</td>\n",
              "      <td>0</td>\n",
              "      <td>0</td>\n",
              "      <td>1</td>\n",
              "      <td>1</td>\n",
              "      <td>0</td>\n",
              "      <td>0</td>\n",
              "      <td>1</td>\n",
              "      <td>0</td>\n",
              "      <td>0</td>\n",
              "      <td>0</td>\n",
              "      <td>1</td>\n",
              "      <td>0</td>\n",
              "      <td>0</td>\n",
              "      <td>0</td>\n",
              "      <td>...</td>\n",
              "      <td>0</td>\n",
              "      <td>0</td>\n",
              "      <td>0</td>\n",
              "      <td>0</td>\n",
              "      <td>0</td>\n",
              "      <td>0</td>\n",
              "      <td>0</td>\n",
              "      <td>0</td>\n",
              "      <td>0</td>\n",
              "      <td>0</td>\n",
              "      <td>0</td>\n",
              "      <td>0</td>\n",
              "      <td>0</td>\n",
              "      <td>0</td>\n",
              "      <td>1</td>\n",
              "      <td>0</td>\n",
              "      <td>0</td>\n",
              "      <td>0</td>\n",
              "      <td>0</td>\n",
              "      <td>0</td>\n",
              "      <td>0</td>\n",
              "      <td>0</td>\n",
              "      <td>0</td>\n",
              "      <td>0</td>\n",
              "      <td>0</td>\n",
              "      <td>0</td>\n",
              "      <td>0</td>\n",
              "      <td>0</td>\n",
              "      <td>0</td>\n",
              "      <td>0</td>\n",
              "      <td>0</td>\n",
              "      <td>0</td>\n",
              "      <td>0</td>\n",
              "      <td>0</td>\n",
              "      <td>0</td>\n",
              "      <td>0</td>\n",
              "      <td>0</td>\n",
              "      <td>0</td>\n",
              "      <td>0</td>\n",
              "      <td>0</td>\n",
              "    </tr>\n",
              "    <tr>\n",
              "      <th>33</th>\n",
              "      <td>0.06005</td>\n",
              "      <td>-1.782482</td>\n",
              "      <td>-0.600343</td>\n",
              "      <td>-1.067492</td>\n",
              "      <td>-1.157842</td>\n",
              "      <td>3.210891</td>\n",
              "      <td>0.624627</td>\n",
              "      <td>-2.174734</td>\n",
              "      <td>0.058424</td>\n",
              "      <td>2.723117</td>\n",
              "      <td>-0.042390</td>\n",
              "      <td>-2.111915</td>\n",
              "      <td>8.0</td>\n",
              "      <td>16.0</td>\n",
              "      <td>0.224648</td>\n",
              "      <td>-2.831634</td>\n",
              "      <td>0.371851</td>\n",
              "      <td>-2.905229</td>\n",
              "      <td>1.296740</td>\n",
              "      <td>-3.020337</td>\n",
              "      <td>0</td>\n",
              "      <td>1</td>\n",
              "      <td>0</td>\n",
              "      <td>0</td>\n",
              "      <td>0</td>\n",
              "      <td>1</td>\n",
              "      <td>0</td>\n",
              "      <td>1</td>\n",
              "      <td>0</td>\n",
              "      <td>0</td>\n",
              "      <td>1</td>\n",
              "      <td>0</td>\n",
              "      <td>1</td>\n",
              "      <td>0</td>\n",
              "      <td>0</td>\n",
              "      <td>1</td>\n",
              "      <td>0</td>\n",
              "      <td>0</td>\n",
              "      <td>0</td>\n",
              "      <td>0</td>\n",
              "      <td>...</td>\n",
              "      <td>0</td>\n",
              "      <td>0</td>\n",
              "      <td>1</td>\n",
              "      <td>0</td>\n",
              "      <td>0</td>\n",
              "      <td>0</td>\n",
              "      <td>0</td>\n",
              "      <td>0</td>\n",
              "      <td>0</td>\n",
              "      <td>0</td>\n",
              "      <td>0</td>\n",
              "      <td>0</td>\n",
              "      <td>0</td>\n",
              "      <td>0</td>\n",
              "      <td>0</td>\n",
              "      <td>0</td>\n",
              "      <td>0</td>\n",
              "      <td>0</td>\n",
              "      <td>0</td>\n",
              "      <td>0</td>\n",
              "      <td>0</td>\n",
              "      <td>0</td>\n",
              "      <td>1</td>\n",
              "      <td>0</td>\n",
              "      <td>0</td>\n",
              "      <td>0</td>\n",
              "      <td>0</td>\n",
              "      <td>0</td>\n",
              "      <td>0</td>\n",
              "      <td>0</td>\n",
              "      <td>0</td>\n",
              "      <td>0</td>\n",
              "      <td>0</td>\n",
              "      <td>0</td>\n",
              "      <td>0</td>\n",
              "      <td>0</td>\n",
              "      <td>0</td>\n",
              "      <td>0</td>\n",
              "      <td>0</td>\n",
              "      <td>0</td>\n",
              "    </tr>\n",
              "    <tr>\n",
              "      <th>34</th>\n",
              "      <td>0.06005</td>\n",
              "      <td>0.906155</td>\n",
              "      <td>-0.600343</td>\n",
              "      <td>-0.033816</td>\n",
              "      <td>-2.279394</td>\n",
              "      <td>-2.587616</td>\n",
              "      <td>0.067833</td>\n",
              "      <td>1.156827</td>\n",
              "      <td>-1.252276</td>\n",
              "      <td>-3.208770</td>\n",
              "      <td>0.464276</td>\n",
              "      <td>1.967477</td>\n",
              "      <td>9.0</td>\n",
              "      <td>4.0</td>\n",
              "      <td>0.863392</td>\n",
              "      <td>1.719599</td>\n",
              "      <td>0.731935</td>\n",
              "      <td>2.509464</td>\n",
              "      <td>-0.591401</td>\n",
              "      <td>1.885542</td>\n",
              "      <td>0</td>\n",
              "      <td>0</td>\n",
              "      <td>1</td>\n",
              "      <td>0</td>\n",
              "      <td>0</td>\n",
              "      <td>1</td>\n",
              "      <td>1</td>\n",
              "      <td>0</td>\n",
              "      <td>0</td>\n",
              "      <td>0</td>\n",
              "      <td>0</td>\n",
              "      <td>1</td>\n",
              "      <td>0</td>\n",
              "      <td>0</td>\n",
              "      <td>1</td>\n",
              "      <td>0</td>\n",
              "      <td>0</td>\n",
              "      <td>1</td>\n",
              "      <td>0</td>\n",
              "      <td>0</td>\n",
              "      <td>...</td>\n",
              "      <td>0</td>\n",
              "      <td>0</td>\n",
              "      <td>0</td>\n",
              "      <td>0</td>\n",
              "      <td>0</td>\n",
              "      <td>0</td>\n",
              "      <td>0</td>\n",
              "      <td>0</td>\n",
              "      <td>0</td>\n",
              "      <td>0</td>\n",
              "      <td>1</td>\n",
              "      <td>0</td>\n",
              "      <td>0</td>\n",
              "      <td>0</td>\n",
              "      <td>0</td>\n",
              "      <td>0</td>\n",
              "      <td>0</td>\n",
              "      <td>0</td>\n",
              "      <td>0</td>\n",
              "      <td>0</td>\n",
              "      <td>0</td>\n",
              "      <td>0</td>\n",
              "      <td>0</td>\n",
              "      <td>0</td>\n",
              "      <td>0</td>\n",
              "      <td>0</td>\n",
              "      <td>0</td>\n",
              "      <td>0</td>\n",
              "      <td>0</td>\n",
              "      <td>0</td>\n",
              "      <td>0</td>\n",
              "      <td>0</td>\n",
              "      <td>0</td>\n",
              "      <td>0</td>\n",
              "      <td>0</td>\n",
              "      <td>0</td>\n",
              "      <td>0</td>\n",
              "      <td>0</td>\n",
              "      <td>0</td>\n",
              "      <td>1</td>\n",
              "    </tr>\n",
              "  </tbody>\n",
              "</table>\n",
              "<p>5 rows × 92 columns</p>\n",
              "</div>"
            ],
            "text/plain": [
              "    Soma Pontos Casa  ...  Visitante Sequencia_SSS\n",
              "30           0.06005  ...                        0\n",
              "31           0.06005  ...                        0\n",
              "32          -2.46170  ...                        0\n",
              "33           0.06005  ...                        0\n",
              "34           0.06005  ...                        1\n",
              "\n",
              "[5 rows x 92 columns]"
            ]
          },
          "metadata": {
            "tags": []
          },
          "execution_count": 69
        }
      ]
    },
    {
      "cell_type": "code",
      "metadata": {
        "colab": {
          "base_uri": "https://localhost:8080/"
        },
        "id": "4m0gFxtGl_kR",
        "outputId": "ff5e3828-d533-49a3-d708-4b63f91f64ee"
      },
      "source": [
        "x.shape"
      ],
      "execution_count": 68,
      "outputs": [
        {
          "output_type": "execute_result",
          "data": {
            "text/plain": [
              "(9800, 92)"
            ]
          },
          "metadata": {
            "tags": []
          },
          "execution_count": 68
        }
      ]
    },
    {
      "cell_type": "code",
      "metadata": {
        "colab": {
          "base_uri": "https://localhost:8080/"
        },
        "id": "NBn-OxCG6JOI",
        "outputId": "2168f4e7-e232-43e8-82bf-c6a797bc7ee0"
      },
      "source": [
        "x.columns"
      ],
      "execution_count": 70,
      "outputs": [
        {
          "output_type": "execute_result",
          "data": {
            "text/plain": [
              "Index(['Soma Pontos Casa', 'Soma Pontos Visitante', 'Gols Casa',\n",
              "       'Gols Visitantes', 'Gols Conc. Casa', 'Gols Conc. Visitante', 'GMC',\n",
              "       'GMV', 'GCC', 'GCV', 'Total P. Casa', 'Total P. Visit.', 'Casa_AA',\n",
              "       'Visitante_AA', 'Dif Gols Casa', 'Dif Gols Visit',\n",
              "       'Dif Gols Time Casas', 'Dif Gols Time Visitante', 'Dif Pontos',\n",
              "       'Dif Posição', 'C1_D', 'C1_E', 'C1_S', 'C2_D', 'C2_E', 'C2_S', 'C3_D',\n",
              "       'C3_E', 'C3_S', 'V1_D', 'V1_E', 'V1_S', 'V2_D', 'V2_E', 'V2_S', 'V3_D',\n",
              "       'V3_E', 'V3_S', 'Casa Sequencia_DDD', 'Casa Sequencia_DDE',\n",
              "       'Casa Sequencia_DDS', 'Casa Sequencia_DED', 'Casa Sequencia_DEE',\n",
              "       'Casa Sequencia_DES', 'Casa Sequencia_DSD', 'Casa Sequencia_DSE',\n",
              "       'Casa Sequencia_DSS', 'Casa Sequencia_EDD', 'Casa Sequencia_EDE',\n",
              "       'Casa Sequencia_EDS', 'Casa Sequencia_EED', 'Casa Sequencia_EEE',\n",
              "       'Casa Sequencia_EES', 'Casa Sequencia_ESD', 'Casa Sequencia_ESE',\n",
              "       'Casa Sequencia_ESS', 'Casa Sequencia_SDD', 'Casa Sequencia_SDE',\n",
              "       'Casa Sequencia_SDS', 'Casa Sequencia_SED', 'Casa Sequencia_SEE',\n",
              "       'Casa Sequencia_SES', 'Casa Sequencia_SSD', 'Casa Sequencia_SSE',\n",
              "       'Casa Sequencia_SSS', 'Visitante Sequencia_DDD',\n",
              "       'Visitante Sequencia_DDE', 'Visitante Sequencia_DDS',\n",
              "       'Visitante Sequencia_DED', 'Visitante Sequencia_DEE',\n",
              "       'Visitante Sequencia_DES', 'Visitante Sequencia_DSD',\n",
              "       'Visitante Sequencia_DSE', 'Visitante Sequencia_DSS',\n",
              "       'Visitante Sequencia_EDD', 'Visitante Sequencia_EDE',\n",
              "       'Visitante Sequencia_EDS', 'Visitante Sequencia_EED',\n",
              "       'Visitante Sequencia_EEE', 'Visitante Sequencia_EES',\n",
              "       'Visitante Sequencia_ESD', 'Visitante Sequencia_ESE',\n",
              "       'Visitante Sequencia_ESS', 'Visitante Sequencia_SDD',\n",
              "       'Visitante Sequencia_SDE', 'Visitante Sequencia_SDS',\n",
              "       'Visitante Sequencia_SED', 'Visitante Sequencia_SEE',\n",
              "       'Visitante Sequencia_SES', 'Visitante Sequencia_SSD',\n",
              "       'Visitante Sequencia_SSE', 'Visitante Sequencia_SSS'],\n",
              "      dtype='object')"
            ]
          },
          "metadata": {
            "tags": []
          },
          "execution_count": 70
        }
      ]
    },
    {
      "cell_type": "code",
      "metadata": {
        "id": "vYnvedzsWsv0"
      },
      "source": [
        "from sklearn.model_selection import train_test_split\n",
        "\n",
        "X_train, X_test, y_train, y_test = train_test_split(x, y, \n",
        "                                                    test_size = 150,\n",
        "                                                    random_state = 1,\n",
        "                                                    stratify = y)"
      ],
      "execution_count": 72,
      "outputs": []
    },
    {
      "cell_type": "markdown",
      "metadata": {
        "id": "Vqis2F4VtyoC"
      },
      "source": [
        "# Logistic Regression"
      ]
    },
    {
      "cell_type": "code",
      "metadata": {
        "id": "x8z4ljBjYvur"
      },
      "source": [
        "from sklearn.linear_model import LogisticRegression\n",
        "clf = LogisticRegression()\n",
        "clf.fit(X_train, y_train)"
      ],
      "execution_count": null,
      "outputs": []
    },
    {
      "cell_type": "code",
      "metadata": {
        "id": "v_yYe5_vYrhM"
      },
      "source": [
        "y_pred = clf.predict(X_test)"
      ],
      "execution_count": 74,
      "outputs": []
    },
    {
      "cell_type": "code",
      "metadata": {
        "colab": {
          "base_uri": "https://localhost:8080/"
        },
        "id": "dOM-4PCqYyqL",
        "outputId": "7d774acd-2dc9-4aaf-e206-145651285521"
      },
      "source": [
        "from sklearn.metrics import accuracy_score\n",
        "accuracy_score(y_test, y_pred)"
      ],
      "execution_count": 75,
      "outputs": [
        {
          "output_type": "execute_result",
          "data": {
            "text/plain": [
              "0.7133333333333334"
            ]
          },
          "metadata": {
            "tags": []
          },
          "execution_count": 75
        }
      ]
    },
    {
      "cell_type": "code",
      "metadata": {
        "colab": {
          "base_uri": "https://localhost:8080/"
        },
        "id": "8eHUfTEAZJ17",
        "outputId": "63b5e06a-19cc-47d1-dd7f-f8e65521a0c9"
      },
      "source": [
        "y_test.value_counts()"
      ],
      "execution_count": 76,
      "outputs": [
        {
          "output_type": "execute_result",
          "data": {
            "text/plain": [
              "0    80\n",
              "1    70\n",
              "Name: Resultado, dtype: int64"
            ]
          },
          "metadata": {
            "tags": []
          },
          "execution_count": 76
        }
      ]
    },
    {
      "cell_type": "code",
      "metadata": {
        "colab": {
          "base_uri": "https://localhost:8080/",
          "height": 299
        },
        "id": "fugFT2i-tOgz",
        "outputId": "f3ba7b46-2d54-4e4b-cfdd-dd1a064752d0"
      },
      "source": [
        "from sklearn.metrics import plot_confusion_matrix\n",
        "plot_confusion_matrix(clf, X_test, y_test, cmap='Blues') "
      ],
      "execution_count": 77,
      "outputs": [
        {
          "output_type": "execute_result",
          "data": {
            "text/plain": [
              "<sklearn.metrics._plot.confusion_matrix.ConfusionMatrixDisplay at 0x7f1a74a07e90>"
            ]
          },
          "metadata": {
            "tags": []
          },
          "execution_count": 77
        },
        {
          "output_type": "display_data",
          "data": {
            "image/png": "[encoded data removed]",
            "text/plain": [
              "<Figure size 432x288 with 2 Axes>"
            ]
          },
          "metadata": {
            "tags": [],
            "needs_background": "light"
          }
        }
      ]
    },
    {
      "cell_type": "markdown",
      "metadata": {
        "id": "qB64_bb6t3_I"
      },
      "source": [
        "# SVC"
      ]
    },
    {
      "cell_type": "code",
      "metadata": {
        "colab": {
          "base_uri": "https://localhost:8080/"
        },
        "id": "qV8XZv5QpmKD",
        "outputId": "39af1389-0ee7-4415-d3ea-ebd06bf07d36"
      },
      "source": [
        "from sklearn.svm import SVC\n",
        "clf_svc = SVC(kernel = 'linear', random_state = 0)\n",
        "clf_svc.fit(X_train, y_train)"
      ],
      "execution_count": 45,
      "outputs": [
        {
          "output_type": "execute_result",
          "data": {
            "text/plain": [
              "SVC(C=1.0, break_ties=False, cache_size=200, class_weight=None, coef0=0.0,\n",
              "    decision_function_shape='ovr', degree=3, gamma='scale', kernel='linear',\n",
              "    max_iter=-1, probability=False, random_state=0, shrinking=True, tol=0.001,\n",
              "    verbose=False)"
            ]
          },
          "metadata": {
            "tags": []
          },
          "execution_count": 45
        }
      ]
    },
    {
      "cell_type": "code",
      "metadata": {
        "id": "kuFJL_0Tp0Gr"
      },
      "source": [
        "y_pred2 = clf_svc.predict(X_test)"
      ],
      "execution_count": 46,
      "outputs": []
    },
    {
      "cell_type": "code",
      "metadata": {
        "colab": {
          "base_uri": "https://localhost:8080/",
          "height": 296
        },
        "id": "bKqXv_eRtdz6",
        "outputId": "53da6947-7475-4658-bb33-0d5f1d0af3c5"
      },
      "source": [
        "from sklearn.metrics import plot_confusion_matrix\n",
        "plot_confusion_matrix(clf_svc, X_test, y_test, cmap='Blues') "
      ],
      "execution_count": 47,
      "outputs": [
        {
          "output_type": "execute_result",
          "data": {
            "text/plain": [
              "<sklearn.metrics._plot.confusion_matrix.ConfusionMatrixDisplay at 0x7f1a74ffde90>"
            ]
          },
          "metadata": {
            "tags": []
          },
          "execution_count": 47
        },
        {
          "output_type": "display_data",
          "data": {
            "image/png": "[encoded data removed]",
            "text/plain": [
              "<Figure size 432x288 with 2 Axes>"
            ]
          },
          "metadata": {
            "tags": [],
            "needs_background": "light"
          }
        }
      ]
    },
    {
      "cell_type": "code",
      "metadata": {
        "colab": {
          "base_uri": "https://localhost:8080/"
        },
        "id": "7E89EthgqNYe",
        "outputId": "9087634d-271e-47d6-d101-aead44570534"
      },
      "source": [
        "from sklearn.metrics import accuracy_score\n",
        "accuracy_score(y_test, y_pred2)"
      ],
      "execution_count": 48,
      "outputs": [
        {
          "output_type": "execute_result",
          "data": {
            "text/plain": [
              "0.7"
            ]
          },
          "metadata": {
            "tags": []
          },
          "execution_count": 48
        }
      ]
    },
    {
      "cell_type": "markdown",
      "metadata": {
        "id": "sNMVuiaot8YH"
      },
      "source": [
        "# Random Forest Classifier"
      ]
    },
    {
      "cell_type": "code",
      "metadata": {
        "colab": {
          "base_uri": "https://localhost:8080/"
        },
        "id": "8Flq-uM5rQdZ",
        "outputId": "20831205-0826-4efe-cfe5-c20e29783cfb"
      },
      "source": [
        "from sklearn.ensemble import RandomForestClassifier\n",
        "clf_rfc = RandomForestClassifier(n_estimators = 10, criterion = 'entropy', random_state = 0)\n",
        "clf_rfc.fit(X_train, y_train)"
      ],
      "execution_count": 49,
      "outputs": [
        {
          "output_type": "execute_result",
          "data": {
            "text/plain": [
              "RandomForestClassifier(bootstrap=True, ccp_alpha=0.0, class_weight=None,\n",
              "                       criterion='entropy', max_depth=None, max_features='auto',\n",
              "                       max_leaf_nodes=None, max_samples=None,\n",
              "                       min_impurity_decrease=0.0, min_impurity_split=None,\n",
              "                       min_samples_leaf=1, min_samples_split=2,\n",
              "                       min_weight_fraction_leaf=0.0, n_estimators=10,\n",
              "                       n_jobs=None, oob_score=False, random_state=0, verbose=0,\n",
              "                       warm_start=False)"
            ]
          },
          "metadata": {
            "tags": []
          },
          "execution_count": 49
        }
      ]
    },
    {
      "cell_type": "code",
      "metadata": {
        "id": "Uu542ahRrcAe"
      },
      "source": [
        "y_pred3 = clf_rfc.predict(X_test)"
      ],
      "execution_count": 50,
      "outputs": []
    },
    {
      "cell_type": "code",
      "metadata": {
        "colab": {
          "base_uri": "https://localhost:8080/"
        },
        "id": "k3-lE154rm7J",
        "outputId": "650cf3f7-bacf-456e-d3f6-1df6e3be49f3"
      },
      "source": [
        "from sklearn.metrics import accuracy_score\n",
        "accuracy_score(y_test, y_pred3)"
      ],
      "execution_count": 51,
      "outputs": [
        {
          "output_type": "execute_result",
          "data": {
            "text/plain": [
              "0.6733333333333333"
            ]
          },
          "metadata": {
            "tags": []
          },
          "execution_count": 51
        }
      ]
    },
    {
      "cell_type": "code",
      "metadata": {
        "colab": {
          "base_uri": "https://localhost:8080/",
          "height": 296
        },
        "id": "XchPVMCDszY2",
        "outputId": "0e9d15a9-e851-47a5-c5ab-d07e4fa22205"
      },
      "source": [
        "from sklearn.metrics import plot_confusion_matrix\n",
        "plot_confusion_matrix(clf_rfc, X_test, y_test, cmap='Blues') "
      ],
      "execution_count": 78,
      "outputs": [
        {
          "output_type": "execute_result",
          "data": {
            "text/plain": [
              "<sklearn.metrics._plot.confusion_matrix.ConfusionMatrixDisplay at 0x7f1a7467c8d0>"
            ]
          },
          "metadata": {
            "tags": []
          },
          "execution_count": 78
        },
        {
          "output_type": "display_data",
          "data": {
            "image/png": "[encoded data removed]",
            "text/plain": [
              "<Figure size 432x288 with 2 Axes>"
            ]
          },
          "metadata": {
            "tags": [],
            "needs_background": "light"
          }
        }
      ]
    }
  ]
}